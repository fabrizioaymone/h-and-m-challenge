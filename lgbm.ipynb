{
  "nbformat": 4,
  "nbformat_minor": 0,
  "metadata": {
    "colab": {
      "name": "LGBMSpark.ipynb",
      "provenance": [],
      "machine_shape": "hm",
      "authorship_tag": "ABX9TyO/x3tQHJQSkgFG7a8dRTun",
      "include_colab_link": true
    },
    "kernelspec": {
      "name": "python3",
      "display_name": "Python 3"
    },
    "language_info": {
      "name": "python"
    },
    "gpuClass": "standard"
  },
  "cells": [
    {
      "cell_type": "markdown",
      "metadata": {
        "id": "view-in-github",
        "colab_type": "text"
      },
      "source": [
        "<a href=\"https://colab.research.google.com/github/fabrizioaymone/h-and-m-challenge/blob/main/LGBMSpark.ipynb\" target=\"_parent\"><img src=\"https://colab.research.google.com/assets/colab-badge.svg\" alt=\"Open In Colab\"/></a>"
      ]
    },
    {
      "cell_type": "code",
      "execution_count": 1,
      "metadata": {
        "colab": {
          "base_uri": "https://localhost:8080/"
        },
        "id": "YwwoIObPpuqv",
        "outputId": "9cd3e5c4-5053-4e73-e744-102ebb7f4a85"
      },
      "outputs": [
        {
          "output_type": "stream",
          "name": "stdout",
          "text": [
            "Mounted at /content/drive\n"
          ]
        }
      ],
      "source": [
        "from google.colab import drive\n",
        "import os, sys, shutil\n",
        "drive.mount(\"/content/drive\")\n",
        "sys.path.append(\"/content/drive/MyDrive/env\")\n",
        "os.makedirs('/root/.kaggle')\n",
        "shutil.copyfile('/content/drive/MyDrive/kaggle.json', '/root/.kaggle/kaggle.json')\n",
        "if not os.path.exists(\"/content/datasets\"):\n",
        "  os.symlink(\"/content/drive/MyDrive/datasets/H&M\",\"/content/datasets\")\n",
        "!chmod 777 -R /content/drive/MyDrive/env/pyspark"
      ]
    },
    {
      "cell_type": "code",
      "source": [
        "import pyspark\n",
        "from pyspark.sql import SparkSession\n",
        "spark = SparkSession.builder.appName(\"LGBMSpark\").config('MaxPartitionBytes', '5000000').getOrCreate()\n",
        "spark.conf.set('spark.sql.adaptive.enabled', True)\n",
        "spark.conf.set('spark.sql.adaptive.skewJoin.enabled', True)"
      ],
      "metadata": {
        "id": "kfXLrXsxqEj9"
      },
      "execution_count": 2,
      "outputs": []
    },
    {
      "cell_type": "code",
      "source": [
        "spark"
      ],
      "metadata": {
        "colab": {
          "base_uri": "https://localhost:8080/",
          "height": 219
        },
        "id": "1hbKymNk8mOv",
        "outputId": "83cf43ff-45f8-4a6b-b685-64350c1fa136"
      },
      "execution_count": 3,
      "outputs": [
        {
          "output_type": "execute_result",
          "data": {
            "text/plain": [
              "<pyspark.sql.session.SparkSession at 0x7fe64c9b7250>"
            ],
            "text/html": [
              "\n",
              "            <div>\n",
              "                <p><b>SparkSession - in-memory</b></p>\n",
              "                \n",
              "        <div>\n",
              "            <p><b>SparkContext</b></p>\n",
              "\n",
              "            <p><a href=\"http://049244b4542f:4040\">Spark UI</a></p>\n",
              "\n",
              "            <dl>\n",
              "              <dt>Version</dt>\n",
              "                <dd><code>v3.3.0</code></dd>\n",
              "              <dt>Master</dt>\n",
              "                <dd><code>local[*]</code></dd>\n",
              "              <dt>AppName</dt>\n",
              "                <dd><code>LGBMSpark</code></dd>\n",
              "            </dl>\n",
              "        </div>\n",
              "        \n",
              "            </div>\n",
              "        "
            ]
          },
          "metadata": {},
          "execution_count": 3
        }
      ]
    },
    {
      "cell_type": "code",
      "source": [
        "customers = spark.read.csv(\"/content/datasets/customers.csv\", header=True)\n",
        "articles = spark.read.csv(\"/content/datasets/articles.csv\", header=True)\n",
        "transactions = spark.read.csv(\"/content/datasets/transactions_train.csv\", header=True)"
      ],
      "metadata": {
        "id": "4f2YCWoo9vDe"
      },
      "execution_count": null,
      "outputs": []
    },
    {
      "cell_type": "markdown",
      "source": [
        "DATA CLEANING"
      ],
      "metadata": {
        "id": "Mn1c_yX2Ihqg"
      }
    },
    {
      "cell_type": "code",
      "source": [
        "from pyspark.sql import functions as F \n",
        "\n",
        "customers.select([(F.count(F.when(F.col(c).isNull() | F.isnan(c), c))/customers.count()).alias(c) for c in customers.columns]).show()"
      ],
      "metadata": {
        "colab": {
          "base_uri": "https://localhost:8080/"
        },
        "id": "Ftm6ta9mJ9a6",
        "outputId": "6d587aa4-48ba-4857-f30d-375d37e0e3f9"
      },
      "execution_count": null,
      "outputs": [
        {
          "output_type": "stream",
          "name": "stdout",
          "text": [
            "+-----------+------------------+------------------+-------------------+----------------------+--------------------+-----------+\n",
            "|customer_id|                FN|            Active| club_member_status|fashion_news_frequency|                 age|postal_code|\n",
            "+-----------+------------------+------------------+-------------------+----------------------+--------------------+-----------+\n",
            "|        0.0|0.6523783145526902|0.6615081852505138|0.00441843175556495|  0.011668537442236768|0.011560664149623172|        0.0|\n",
            "+-----------+------------------+------------------+-------------------+----------------------+--------------------+-----------+\n",
            "\n"
          ]
        }
      ]
    },
    {
      "cell_type": "code",
      "source": [
        "customers = customers.drop('FN', 'Active')"
      ],
      "metadata": {
        "id": "--nW7NZgLAbv"
      },
      "execution_count": null,
      "outputs": []
    },
    {
      "cell_type": "code",
      "source": [
        "customers.groupBy('club_member_status').count().sort('count').show()"
      ],
      "metadata": {
        "colab": {
          "base_uri": "https://localhost:8080/"
        },
        "id": "rxsU7aXmLYUQ",
        "outputId": "0b8bec20-7894-4cee-a9ff-ad3c49c7544e"
      },
      "execution_count": null,
      "outputs": [
        {
          "output_type": "stream",
          "name": "stdout",
          "text": [
            "+------------------+-------+\n",
            "|club_member_status|  count|\n",
            "+------------------+-------+\n",
            "|         LEFT CLUB|    467|\n",
            "|              null|   6062|\n",
            "|        PRE-CREATE|  92960|\n",
            "|            ACTIVE|1272491|\n",
            "+------------------+-------+\n",
            "\n"
          ]
        }
      ]
    },
    {
      "cell_type": "code",
      "source": [
        "customers = customers.fillna('LEFT CLUB', ['club_member_status'])"
      ],
      "metadata": {
        "id": "TgkkNuY5MrmK"
      },
      "execution_count": null,
      "outputs": []
    },
    {
      "cell_type": "code",
      "source": [
        "customers.groupBy('fashion_news_frequency').count().sort('count').show()"
      ],
      "metadata": {
        "colab": {
          "base_uri": "https://localhost:8080/"
        },
        "id": "q_vbEcXcONIW",
        "outputId": "b752ded3-fde6-46a7-ac77-ad7d748301df"
      },
      "execution_count": null,
      "outputs": [
        {
          "output_type": "stream",
          "name": "stdout",
          "text": [
            "+----------------------+------+\n",
            "|fashion_news_frequency| count|\n",
            "+----------------------+------+\n",
            "|                  None|     2|\n",
            "|               Monthly|   842|\n",
            "|                  null| 16009|\n",
            "|             Regularly|477416|\n",
            "|                  NONE|877711|\n",
            "+----------------------+------+\n",
            "\n"
          ]
        }
      ]
    },
    {
      "cell_type": "code",
      "source": [
        "customers = customers.fillna('NONE', ['fashion_news_frequency'])\\\n",
        "            .withColumn('fashion_news_frequency', F.when(F.col('fashion_news_frequency')=='None', 'NONE').otherwise(F.col('fashion_news_frequency')))"
      ],
      "metadata": {
        "id": "99wZ1nC4OSbJ"
      },
      "execution_count": null,
      "outputs": []
    },
    {
      "cell_type": "code",
      "source": [
        "customers.select(F.count(F.when(customers.age.isNull(), 1))).show()"
      ],
      "metadata": {
        "colab": {
          "base_uri": "https://localhost:8080/"
        },
        "id": "BmDYNrOjSnms",
        "outputId": "8e503f36-bbe3-483c-8d0c-0bd36d003df6"
      },
      "execution_count": null,
      "outputs": [
        {
          "output_type": "stream",
          "name": "stdout",
          "text": [
            "+-----------------------------------------+\n",
            "|count(CASE WHEN (age IS NULL) THEN 1 END)|\n",
            "+-----------------------------------------+\n",
            "|                                    15861|\n",
            "+-----------------------------------------+\n",
            "\n"
          ]
        }
      ]
    },
    {
      "cell_type": "code",
      "source": [
        "customers = customers.fillna('25', ['age'])"
      ],
      "metadata": {
        "id": "ujfKYJ97QuzU"
      },
      "execution_count": null,
      "outputs": []
    },
    {
      "cell_type": "code",
      "source": [
        "customers.printSchema()"
      ],
      "metadata": {
        "colab": {
          "base_uri": "https://localhost:8080/"
        },
        "id": "N4p6lfV2OiLh",
        "outputId": "659f3332-03d3-4907-d05a-4ce6be5cda43"
      },
      "execution_count": null,
      "outputs": [
        {
          "output_type": "stream",
          "name": "stdout",
          "text": [
            "root\n",
            " |-- customer_id: string (nullable = true)\n",
            " |-- club_member_status: string (nullable = false)\n",
            " |-- fashion_news_frequency: string (nullable = false)\n",
            " |-- age: string (nullable = false)\n",
            " |-- postal_code: string (nullable = true)\n",
            "\n"
          ]
        }
      ]
    },
    {
      "cell_type": "code",
      "source": [
        "customers = customers.withColumn('age', F.col('age').astype('Integer'))"
      ],
      "metadata": {
        "id": "ejBrZNgTWW4y"
      },
      "execution_count": null,
      "outputs": []
    },
    {
      "cell_type": "code",
      "source": [
        "articles.printSchema()"
      ],
      "metadata": {
        "colab": {
          "base_uri": "https://localhost:8080/"
        },
        "id": "tjzzUC2HW4B1",
        "outputId": "df23e555-2771-40e0-faf0-3184325fb758"
      },
      "execution_count": null,
      "outputs": [
        {
          "output_type": "stream",
          "name": "stdout",
          "text": [
            "root\n",
            " |-- article_id: string (nullable = true)\n",
            " |-- product_code: string (nullable = true)\n",
            " |-- prod_name: string (nullable = true)\n",
            " |-- product_type_no: string (nullable = true)\n",
            " |-- product_type_name: string (nullable = true)\n",
            " |-- product_group_name: string (nullable = true)\n",
            " |-- graphical_appearance_no: string (nullable = true)\n",
            " |-- graphical_appearance_name: string (nullable = true)\n",
            " |-- colour_group_code: string (nullable = true)\n",
            " |-- colour_group_name: string (nullable = true)\n",
            " |-- perceived_colour_value_id: string (nullable = true)\n",
            " |-- perceived_colour_value_name: string (nullable = true)\n",
            " |-- perceived_colour_master_id: string (nullable = true)\n",
            " |-- perceived_colour_master_name: string (nullable = true)\n",
            " |-- department_no: string (nullable = true)\n",
            " |-- department_name: string (nullable = true)\n",
            " |-- index_code: string (nullable = true)\n",
            " |-- index_name: string (nullable = true)\n",
            " |-- index_group_no: string (nullable = true)\n",
            " |-- index_group_name: string (nullable = true)\n",
            " |-- section_no: string (nullable = true)\n",
            " |-- section_name: string (nullable = true)\n",
            " |-- garment_group_no: string (nullable = true)\n",
            " |-- garment_group_name: string (nullable = true)\n",
            " |-- detail_desc: string (nullable = true)\n",
            "\n"
          ]
        }
      ]
    },
    {
      "cell_type": "code",
      "source": [
        "articles = articles\\\n",
        "            .selectExpr('cast (article_id as int) article_id', 'cast (product_type_no as int) product_type_no', 'cast (graphical_appearance_no as int) graphical_appearance_no',\n",
        "                'cast (colour_group_code as int) colour_group_code ','cast (perceived_colour_value_id as int) perceived_colour_value_id',\n",
        "                'cast (department_no as int) department_no',  'cast (index_group_no as int) index_group_no',\n",
        "                'cast (section_no as int) section_no', 'cast (garment_group_no as int) garment_group_no')"
      ],
      "metadata": {
        "id": "FrYO8-SkXAnE"
      },
      "execution_count": null,
      "outputs": []
    },
    {
      "cell_type": "code",
      "source": [
        "transactions.printSchema()"
      ],
      "metadata": {
        "colab": {
          "base_uri": "https://localhost:8080/"
        },
        "id": "pf3RkJOUXRwd",
        "outputId": "18934d24-7c5b-4349-f65b-c0205880d187"
      },
      "execution_count": null,
      "outputs": [
        {
          "output_type": "stream",
          "name": "stdout",
          "text": [
            "root\n",
            " |-- t_dat: string (nullable = true)\n",
            " |-- customer_id: string (nullable = true)\n",
            " |-- article_id: string (nullable = true)\n",
            " |-- price: string (nullable = true)\n",
            " |-- sales_channel_id: string (nullable = true)\n",
            "\n"
          ]
        }
      ]
    },
    {
      "cell_type": "code",
      "source": [
        "transactions  = transactions.drop('price', 'sales_channel_id')\\\n",
        "                .withColumn('t_dat', F.col('t_dat').astype('timestamp'))"
      ],
      "metadata": {
        "id": "kVEQt8E2XXyx"
      },
      "execution_count": null,
      "outputs": []
    },
    {
      "cell_type": "markdown",
      "source": [
        "#Feature engineering"
      ],
      "metadata": {
        "id": "Njj5dvkBIunP"
      }
    },
    {
      "cell_type": "code",
      "source": [
        "transactions.select(F.max(transactions.t_dat)).show()"
      ],
      "metadata": {
        "colab": {
          "base_uri": "https://localhost:8080/"
        },
        "id": "UlqdJzv2YiNM",
        "outputId": "f5e3d997-15fb-4299-d46f-8f28467f0f4c"
      },
      "execution_count": null,
      "outputs": [
        {
          "output_type": "stream",
          "name": "stdout",
          "text": [
            "+-------------------+\n",
            "|         max(t_dat)|\n",
            "+-------------------+\n",
            "|2020-09-22 00:00:00|\n",
            "+-------------------+\n",
            "\n"
          ]
        }
      ]
    },
    {
      "cell_type": "code",
      "source": [
        "transactions = transactions.withColumn('week', (F.datediff(F.to_date(F.lit('2020-09-22')), F.col('t_dat'))/7).cast('int'))\\\n",
        "                .withColumn('y', F.lit(1))\\\n",
        "                .filter(F.col('week')<=25)"
      ],
      "metadata": {
        "id": "tE1irKumYnob"
      },
      "execution_count": null,
      "outputs": []
    },
    {
      "cell_type": "code",
      "source": [
        "transactions.show()"
      ],
      "metadata": {
        "colab": {
          "base_uri": "https://localhost:8080/"
        },
        "id": "LlXZCNQZLTLg",
        "outputId": "14feb53c-e520-44dc-c30d-412ed746e98b"
      },
      "execution_count": null,
      "outputs": [
        {
          "output_type": "stream",
          "name": "stdout",
          "text": [
            "+-------------------+--------------------+----------+----+---+\n",
            "|              t_dat|         customer_id|article_id|week|  y|\n",
            "+-------------------+--------------------+----------+----+---+\n",
            "|2020-03-25 00:00:00|000e17cb73012035b...|0739363001|  25|  1|\n",
            "|2020-03-25 00:00:00|00271f14209e94d09...|0448509014|  25|  1|\n",
            "|2020-03-25 00:00:00|00271f14209e94d09...|0825782001|  25|  1|\n",
            "|2020-03-25 00:00:00|002affa1fc4d40114...|0224606019|  25|  1|\n",
            "|2020-03-25 00:00:00|0032d1f1d796a9470...|0594987002|  25|  1|\n",
            "|2020-03-25 00:00:00|0032d1f1d796a9470...|0719655001|  25|  1|\n",
            "|2020-03-25 00:00:00|0032d1f1d796a9470...|0603145001|  25|  1|\n",
            "|2020-03-25 00:00:00|0032d1f1d796a9470...|0598515022|  25|  1|\n",
            "|2020-03-25 00:00:00|00421861a907eb361...|0808650001|  25|  1|\n",
            "|2020-03-25 00:00:00|00421861a907eb361...|0664074056|  25|  1|\n",
            "|2020-03-25 00:00:00|00421861a907eb361...|0870468001|  25|  1|\n",
            "|2020-03-25 00:00:00|00471e8bcab33fac6...|0843872003|  25|  1|\n",
            "|2020-03-25 00:00:00|00471e8bcab33fac6...|0843873004|  25|  1|\n",
            "|2020-03-25 00:00:00|00471e8bcab33fac6...|0822946001|  25|  1|\n",
            "|2020-03-25 00:00:00|004b58a7522e48924...|0835008005|  25|  1|\n",
            "|2020-03-25 00:00:00|0051a1d00ec9a4ff1...|0689365051|  25|  1|\n",
            "|2020-03-25 00:00:00|0051a1d00ec9a4ff1...|0796137001|  25|  1|\n",
            "|2020-03-25 00:00:00|005580683ee2bd1c9...|0887659002|  25|  1|\n",
            "|2020-03-25 00:00:00|005580683ee2bd1c9...|0759871025|  25|  1|\n",
            "|2020-03-25 00:00:00|005580683ee2bd1c9...|0759871002|  25|  1|\n",
            "+-------------------+--------------------+----------+----+---+\n",
            "only showing top 20 rows\n",
            "\n"
          ]
        }
      ]
    },
    {
      "cell_type": "code",
      "source": [
        "from pyspark.sql import Window\n",
        "\n",
        "articles_rank = transactions.groupBy(['article_id', 'week']).count()\n",
        "\n",
        "top12 = articles_rank.withColumn('rank', F.rank().over(Window.partitionBy('week').orderBy(F.col('count').desc())))\\\n",
        "        .filter(F.col('rank')<=12)\n",
        "#top12.show()"
      ],
      "metadata": {
        "id": "xrgyDCHt3aG4"
      },
      "execution_count": null,
      "outputs": []
    },
    {
      "cell_type": "code",
      "source": [
        "import numpy as np\n",
        "\n",
        "top12_arr = np.array(top12.filter(F.col('week')==1).orderBy('rank').select('article_id').collect())"
      ],
      "metadata": {
        "id": "34GY62E4a4nt"
      },
      "execution_count": null,
      "outputs": []
    },
    {
      "cell_type": "code",
      "source": [
        "top12_0 = top12.filter(F.col('week')==1).crossJoin(customers.select('customer_id'))"
      ],
      "metadata": {
        "id": "J3Y065U4BNGi"
      },
      "execution_count": null,
      "outputs": []
    },
    {
      "cell_type": "code",
      "source": [
        "top12 = top12.withColumn('week', F.col('week'))\\\n",
        "        .join(transactions.select('customer_id', 'week').dropDuplicates(), 'week')\\\n",
        "        .drop('t_dat')\\\n",
        "        .withColumn('week', F.col('week')-1)"
      ],
      "metadata": {
        "id": "87OvVnOhCaWq"
      },
      "execution_count": null,
      "outputs": []
    },
    {
      "cell_type": "code",
      "source": [
        "transactions = transactions.withColumn('week_ref', F.dense_rank().over(Window.partitionBy('customer_id').orderBy(F.col('week').asc())))\n",
        "\n",
        "#transactions.filter(F.col('customer_id')==transactions.take(1)[0].customer_id).show()\n"
      ],
      "metadata": {
        "id": "UiItMI3oGCBq"
      },
      "execution_count": null,
      "outputs": []
    },
    {
      "cell_type": "code",
      "source": [
        "week0 = customers.select('customer_id')\\\n",
        "          .withColumn('week', F.lit('0'))\n",
        "#week0.show()"
      ],
      "metadata": {
        "id": "dZPUrJwzSW0T"
      },
      "execution_count": null,
      "outputs": []
    },
    {
      "cell_type": "code",
      "source": [
        "lb_purchase = transactions.drop('y', 'article_id','t_dat', 'week_ref')\\\n",
        "              .union(week0)\\\n",
        "              .dropDuplicates()\\\n",
        "              .withColumn('week_ref', F.dense_rank().over(Window.partitionBy('customer_id').orderBy(F.col('week').asc())))\\\n",
        "              .withColumnRenamed('week', 'new_week')\n",
        "\n",
        "week0.unpersist()\n",
        "\n",
        "#lb_purchase.show() "
      ],
      "metadata": {
        "colab": {
          "base_uri": "https://localhost:8080/"
        },
        "id": "RaABnjKDHNPJ",
        "outputId": "733b9ad7-7756-4df2-b669-0bab5c946926"
      },
      "execution_count": null,
      "outputs": [
        {
          "output_type": "execute_result",
          "data": {
            "text/plain": [
              "DataFrame[customer_id: string, week: string]"
            ]
          },
          "metadata": {},
          "execution_count": 28
        }
      ]
    },
    {
      "cell_type": "code",
      "source": [
        "transactions_lw = transactions.join(lb_purchase, on=['customer_id', 'week_ref'], how='inner')\\\n",
        "                  .drop('week')\\\n",
        "                  .withColumnRenamed('new_week', 'week')\\\n",
        "                  .drop('week_ref', 't_dat', 'y')\n",
        "\n",
        "lb_purchase.unpersist()\n",
        "\n",
        "transactions = transactions.drop('week_ref', 't_dat')\n",
        "\n",
        "#transactions_lw.filter(F.col('customer_id')==transactions_lw.take(1)[0].customer_id).show()"
      ],
      "metadata": {
        "id": "Apd_Ef5029tz"
      },
      "execution_count": null,
      "outputs": []
    },
    {
      "cell_type": "markdown",
      "source": [
        "#ASSEMBLING FINAL TRAIN"
      ],
      "metadata": {
        "id": "JDJq_Ho7JdlV"
      }
    },
    {
      "cell_type": "code",
      "source": [
        "top12.show()\n",
        "transactions_lw.show()\n",
        "transactions.show()"
      ],
      "metadata": {
        "colab": {
          "base_uri": "https://localhost:8080/"
        },
        "id": "1qU5lf469kkM",
        "outputId": "f9a4bfe2-e97a-4e16-8dfc-6beeaa074613"
      },
      "execution_count": null,
      "outputs": [
        {
          "output_type": "stream",
          "name": "stdout",
          "text": [
            "+----+----------+-----+----+--------------------+\n",
            "|week|article_id|count|rank|         customer_id|\n",
            "+----+----------+-----+----+--------------------+\n",
            "|   0|0909370001| 1283|   1|00125440be6cd148c...|\n",
            "|   0|0909370001| 1283|   1|04d2413f2b9fb52e4...|\n",
            "|   0|0909370001| 1283|   1|066f40f3e7c5da52a...|\n",
            "|   0|0909370001| 1283|   1|07d887f7ab97358cc...|\n",
            "|   0|0909370001| 1283|   1|134ae4ea61e2f2f67...|\n",
            "|   0|0909370001| 1283|   1|146c194a3b0e61bfd...|\n",
            "|   0|0909370001| 1283|   1|181946657503995de...|\n",
            "|   0|0909370001| 1283|   1|1dbb69025a7a5d33b...|\n",
            "|   0|0909370001| 1283|   1|1e685f6a9e07d635c...|\n",
            "|   0|0909370001| 1283|   1|1fe99816833e5f925...|\n",
            "|   0|0909370001| 1283|   1|24509459b7fc78f7d...|\n",
            "|   0|0909370001| 1283|   1|2cc286ec937f0b954...|\n",
            "|   0|0909370001| 1283|   1|341edbd7f022062e6...|\n",
            "|   0|0909370001| 1283|   1|37579f709fae1d910...|\n",
            "|   0|0909370001| 1283|   1|39a03679843674850...|\n",
            "|   0|0909370001| 1283|   1|3b077b6c7ae6bccc4...|\n",
            "|   0|0909370001| 1283|   1|3d72481f66fe77270...|\n",
            "|   0|0909370001| 1283|   1|4070a9fac084c465e...|\n",
            "|   0|0909370001| 1283|   1|4306fc7348505c016...|\n",
            "|   0|0909370001| 1283|   1|4489076202960e061...|\n",
            "+----+----------+-----+----+--------------------+\n",
            "only showing top 20 rows\n",
            "\n",
            "+--------------------+----------+----+\n",
            "|         customer_id|article_id|week|\n",
            "+--------------------+----------+----+\n",
            "|0000423b00ade9141...|0826211002|   0|\n",
            "|0000f1c71aafe5963...|0917434002|  17|\n",
            "|0000f1c71aafe5963...|0685814048|  17|\n",
            "|0000f1c71aafe5963...|0895418003|  17|\n",
            "|0000f1c71aafe5963...|0875469002|  17|\n",
            "|0000f1c71aafe5963...|0835851001|  17|\n",
            "|0000f1c71aafe5963...|0870345002|  17|\n",
            "|0000f1c71aafe5963...|0902325002|  17|\n",
            "|0000f1c71aafe5963...|0926847002|  17|\n",
            "|0001177027259b455...|0863456003|  18|\n",
            "|0001177027259b455...|0863456003|  18|\n",
            "|0001177027259b455...|0570002090|  18|\n",
            "|0001177027259b455...|0570002090|  18|\n",
            "|0001177027259b455...|0863456005|  18|\n",
            "|0001177027259b455...|0863456005|  18|\n",
            "|00018b5c38bf693c0...|0832520001|   0|\n",
            "|00018b5c38bf693c0...|0783346017|   0|\n",
            "|0001b0127d3e5ff8d...|0860305003|  12|\n",
            "|0001b0127d3e5ff8d...|0834217004|  12|\n",
            "|0001b0127d3e5ff8d...|0559630029|  12|\n",
            "+--------------------+----------+----+\n",
            "only showing top 20 rows\n",
            "\n",
            "+--------------------+----------+----+---+\n",
            "|         customer_id|article_id|week|  y|\n",
            "+--------------------+----------+----+---+\n",
            "|000e17cb73012035b...|0739363001|  25|  1|\n",
            "|00271f14209e94d09...|0448509014|  25|  1|\n",
            "|00271f14209e94d09...|0825782001|  25|  1|\n",
            "|002affa1fc4d40114...|0224606019|  25|  1|\n",
            "|0032d1f1d796a9470...|0594987002|  25|  1|\n",
            "|0032d1f1d796a9470...|0719655001|  25|  1|\n",
            "|0032d1f1d796a9470...|0603145001|  25|  1|\n",
            "|0032d1f1d796a9470...|0598515022|  25|  1|\n",
            "|00421861a907eb361...|0808650001|  25|  1|\n",
            "|00421861a907eb361...|0664074056|  25|  1|\n",
            "|00421861a907eb361...|0870468001|  25|  1|\n",
            "|00471e8bcab33fac6...|0843872003|  25|  1|\n",
            "|00471e8bcab33fac6...|0843873004|  25|  1|\n",
            "|00471e8bcab33fac6...|0822946001|  25|  1|\n",
            "|004b58a7522e48924...|0835008005|  25|  1|\n",
            "|0051a1d00ec9a4ff1...|0689365051|  25|  1|\n",
            "|0051a1d00ec9a4ff1...|0796137001|  25|  1|\n",
            "|005580683ee2bd1c9...|0887659002|  25|  1|\n",
            "|005580683ee2bd1c9...|0759871025|  25|  1|\n",
            "|005580683ee2bd1c9...|0759871002|  25|  1|\n",
            "+--------------------+----------+----+---+\n",
            "only showing top 20 rows\n",
            "\n"
          ]
        }
      ]
    },
    {
      "cell_type": "code",
      "source": [
        "train = transactions.join(F.broadcast(transactions_lw), on = ['customer_id', 'article_id', 'week'], how='outer')\\\n",
        "\n",
        "transactions.unpersist()\n",
        "transactions_lw.unpersist()"
      ],
      "metadata": {
        "colab": {
          "base_uri": "https://localhost:8080/"
        },
        "id": "AoE_oqXg_l_8",
        "outputId": "9d20ed09-38fd-4e8c-a6a9-07da08fa0d4a"
      },
      "execution_count": null,
      "outputs": [
        {
          "output_type": "execute_result",
          "data": {
            "text/plain": [
              "DataFrame[customer_id: string, article_id: string, week: string]"
            ]
          },
          "metadata": {},
          "execution_count": 32
        }
      ]
    },
    {
      "cell_type": "code",
      "source": [
        "train = train.join(top12, on = ['customer_id', 'article_id', 'week'], how='outer')\\\n",
        "\n",
        "top12.unpersist()"
      ],
      "metadata": {
        "colab": {
          "base_uri": "https://localhost:8080/"
        },
        "id": "Dt-UbzueXTbM",
        "outputId": "6ed6d673-20c7-4be1-d7a1-85c6611d49bd"
      },
      "execution_count": null,
      "outputs": [
        {
          "output_type": "execute_result",
          "data": {
            "text/plain": [
              "DataFrame[week: int, article_id: string, count: bigint, rank: int, customer_id: string]"
            ]
          },
          "metadata": {},
          "execution_count": 33
        }
      ]
    },
    {
      "cell_type": "code",
      "source": [
        "top12_0 = top12_0.select('customer_id', 'article_id', 'week', 'count', 'rank')\n",
        "train = train.select('customer_id', 'article_id', 'week', 'count', 'rank', 'y')"
      ],
      "metadata": {
        "id": "Z9JT45SLqLb0"
      },
      "execution_count": null,
      "outputs": []
    },
    {
      "cell_type": "code",
      "source": [
        "test = train.filter(F.col('week')==0).drop('y')\\\n",
        "       .union(top12_0)\n",
        "\n",
        "top12_0.unpersists()"
      ],
      "metadata": {
        "id": "RFXHn-MEzfKH"
      },
      "execution_count": null,
      "outputs": []
    },
    {
      "cell_type": "code",
      "source": [
        "import numpy as np\n",
        "train = train.filter(F.col('week')!=0)\\\n",
        "        .dropDuplicates()\\\n",
        "        .fillna({'rank':999, 'count':0, 'y':0})\\\n",
        "        .join(customers, 'customer_id')\\\n",
        "        .join(articles, 'article_id')\\\n",
        "        .orderBy(['week', 'customer_id'])\n",
        "\n",
        "train = train.filter(F.col('week')<=6)\n",
        "\n",
        "qids = np.array(train.groupBy(['week', 'customer_id']).count().select('count').collect())\n",
        "np.save('/content/datasets/qids.numpy', qids)"
      ],
      "metadata": {
        "id": "qaCQufafzswh"
      },
      "execution_count": null,
      "outputs": []
    },
    {
      "cell_type": "code",
      "source": [
        "test = test.fillna({'rank':999, 'count':0})\\\n",
        "        .dropDuplicates()\\\n",
        "        .join(customers, 'customer_id')\\\n",
        "        .join(articles, 'article_id')       \n"
      ],
      "metadata": {
        "id": "UCy9FVr503ed"
      },
      "execution_count": null,
      "outputs": []
    },
    {
      "cell_type": "code",
      "source": [
        "train.repartition(1).write.parquet('/content/datasets/train.parquet')\n",
        "test.repartition(1).write.parquet('/content/datasets/test.parquet')"
      ],
      "metadata": {
        "id": "Mx-8QjIs2Le-"
      },
      "execution_count": null,
      "outputs": []
    },
    {
      "cell_type": "code",
      "source": [
        "import gc\n",
        "\n",
        "train.unpersist()\n",
        "test.unpersist()\n",
        "gc.collect()"
      ],
      "metadata": {
        "colab": {
          "base_uri": "https://localhost:8080/"
        },
        "id": "kt9zXjt_3Gy1",
        "outputId": "7252f06e-4ff9-4abe-a6f5-3066ba5c7c26"
      },
      "execution_count": null,
      "outputs": [
        {
          "output_type": "execute_result",
          "data": {
            "text/plain": [
              "674"
            ]
          },
          "metadata": {},
          "execution_count": 40
        }
      ]
    },
    {
      "cell_type": "markdown",
      "source": [
        "#MODEL TRAINING"
      ],
      "metadata": {
        "id": "f1eRhJMbcJh_"
      }
    },
    {
      "cell_type": "code",
      "source": [
        "import pandas as pd\n",
        "\n",
        "train = pd.read_parquet('/content/datasets/train.parquet/')\n",
        "test = pd.read_parquet('/content/datasets/test.parquet/')"
      ],
      "metadata": {
        "id": "W_u0A4cBdTYb"
      },
      "execution_count": null,
      "outputs": []
    },
    {
      "cell_type": "code",
      "source": [
        "import numpy as np\n",
        "\n",
        "#train = train.orderBy(['week', 'customer_id'])\n",
        "qids = train.groupby(['week', 'customer_id'])['article_id'].count().to_numpy()\n",
        "#np.array(train.groupBy(['week', 'customer_id']).count().select('count').collect())\n",
        "#np.save('/content/datasets/qids.numpy', qids)\n",
        "qids"
      ],
      "metadata": {
        "colab": {
          "base_uri": "https://localhost:8080/"
        },
        "id": "0MjVQ3TmtgMm",
        "outputId": "a5cb30d2-a801-451a-9fe8-fff17a4dbfbd"
      },
      "execution_count": null,
      "outputs": [
        {
          "output_type": "execute_result",
          "data": {
            "text/plain": [
              "array([12, 12, 12, ...,  9,  2,  4])"
            ]
          },
          "metadata": {},
          "execution_count": 69
        }
      ]
    },
    {
      "cell_type": "code",
      "source": [
        "train.count()"
      ],
      "metadata": {
        "colab": {
          "base_uri": "https://localhost:8080/"
        },
        "id": "Do_Do0aSucgC",
        "outputId": "7d0f52e3-5c8f-4378-88bb-d197663f75c3"
      },
      "execution_count": null,
      "outputs": [
        {
          "output_type": "execute_result",
          "data": {
            "text/plain": [
              "article_id                   8728387\n",
              "customer_id                  8728387\n",
              "week                         8728387\n",
              "count                        8728387\n",
              "rank                         8728387\n",
              "y                            8728387\n",
              "club_member_status           8728387\n",
              "fashion_news_frequency       8728387\n",
              "age                          8728387\n",
              "postal_code                  8728387\n",
              "product_type_no              8728387\n",
              "graphical_appearance_no      8728387\n",
              "colour_group_code            8728387\n",
              "perceived_colour_value_id    8728387\n",
              "department_no                8728387\n",
              "index_group_no               8728387\n",
              "section_no                   8728387\n",
              "garment_group_no             8728387\n",
              "dtype: int64"
            ]
          },
          "metadata": {},
          "execution_count": 46
        }
      ]
    },
    {
      "cell_type": "code",
      "source": [
        "test.count()"
      ],
      "metadata": {
        "colab": {
          "base_uri": "https://localhost:8080/"
        },
        "id": "iGB29yw8uq1B",
        "outputId": "6b03dd2a-dbe0-49eb-d91a-62c76b809fed"
      },
      "execution_count": null,
      "outputs": [
        {
          "output_type": "execute_result",
          "data": {
            "text/plain": [
              "article_id                   19789216\n",
              "customer_id                  19789216\n",
              "week                         19789216\n",
              "count                        19789216\n",
              "rank                         19789216\n",
              "club_member_status           19789216\n",
              "fashion_news_frequency       19789216\n",
              "age                          19789216\n",
              "postal_code                  19789216\n",
              "product_type_no              19789216\n",
              "graphical_appearance_no      19789216\n",
              "colour_group_code            19789216\n",
              "perceived_colour_value_id    19789216\n",
              "department_no                19789216\n",
              "index_group_no               19789216\n",
              "section_no                   19789216\n",
              "garment_group_no             19789216\n",
              "dtype: int64"
            ]
          },
          "metadata": {},
          "execution_count": 47
        }
      ]
    },
    {
      "cell_type": "code",
      "source": [
        "X_train = train.drop(['y', 'customer_id', 'week', 'postal_code'], axis=1).astype({'article_id':int, 'club_member_status': 'category', 'fashion_news_frequency': 'category'})\n",
        "train = train.drop(['week', 'postal_code'], axis=1)\n",
        "y_train = train[['y']]"
      ],
      "metadata": {
        "id": "7hzi0A6Lcl2J"
      },
      "execution_count": null,
      "outputs": []
    },
    {
      "cell_type": "code",
      "source": [
        "X_test = test.drop(['customer_id', 'postal_code', 'week'], axis=1).astype({'article_id':int, 'club_member_status': 'category', 'fashion_news_frequency': 'category'})\n",
        "test = test.drop(['week', 'postal_code'], axis=1)"
      ],
      "metadata": {
        "id": "PDlK8msbEBI5"
      },
      "execution_count": null,
      "outputs": []
    },
    {
      "cell_type": "code",
      "source": [
        "import lightgbm as lgb\n",
        "\n",
        "model = lgb.LGBMRanker(\n",
        "    objective=\"lambdarank\",\n",
        "    metric=\"ndcg\",\n",
        "    boosting_type=\"dart\",\n",
        "    n_estimators=100,\n",
        "    importance_type='gain',\n",
        "    verbose=10,\n",
        "    random_state = 17)"
      ],
      "metadata": {
        "id": "LrSdCN-dLmsZ"
      },
      "execution_count": null,
      "outputs": []
    },
    {
      "cell_type": "code",
      "source": [
        "model.fit(X=X_train, y=y_train, group=qids)"
      ],
      "metadata": {
        "colab": {
          "base_uri": "https://localhost:8080/"
        },
        "id": "fuo-L71ovIU-",
        "outputId": "8ae7ca9d-c7aa-47fe-bff4-9cb19ceadc77"
      },
      "execution_count": null,
      "outputs": [
        {
          "output_type": "execute_result",
          "data": {
            "text/plain": [
              "LGBMRanker(boosting_type='dart', importance_type='gain', metric='ndcg',\n",
              "           objective='lambdarank', random_state=17, verbose=10)"
            ]
          },
          "metadata": {},
          "execution_count": 70
        }
      ]
    },
    {
      "cell_type": "code",
      "source": [
        "submission = pd.read_csv('/content/datasets/sample_submission.csv')"
      ],
      "metadata": {
        "id": "JpOSc1XaRBKp"
      },
      "execution_count": null,
      "outputs": []
    },
    {
      "cell_type": "code",
      "source": [
        "test['prediction'] = model.predict(X_test)"
      ],
      "metadata": {
        "id": "oL2KSA8TjgS3"
      },
      "execution_count": null,
      "outputs": []
    },
    {
      "cell_type": "code",
      "source": [
        "preds = test.sort_values('prediction', ascending=False).groupby('customer_id')['article_id'].unique().to_dict()"
      ],
      "metadata": {
        "id": "vs7CNYXxXTmw"
      },
      "execution_count": null,
      "outputs": []
    },
    {
      "cell_type": "code",
      "source": [
        "submission.head()"
      ],
      "metadata": {
        "id": "wa9DItR5ZnSc",
        "outputId": "4114bf27-f4fa-4104-efa0-6fc0e77da5d9",
        "colab": {
          "base_uri": "https://localhost:8080/",
          "height": 206
        }
      },
      "execution_count": null,
      "outputs": [
        {
          "output_type": "execute_result",
          "data": {
            "text/plain": [
              "                                         customer_id  \\\n",
              "0  00000dbacae5abe5e23885899a1fa44253a17956c6d1c3...   \n",
              "1  0000423b00ade91418cceaf3b26c6af3dd342b51fd051e...   \n",
              "2  000058a12d5b43e67d225668fa1f8d618c13dc232df0ca...   \n",
              "3  00005ca1c9ed5f5146b52ac8639a40ca9d57aeff4d1bd2...   \n",
              "4  00006413d8573cd20ed7128e53b7b13819fe5cfc2d801f...   \n",
              "\n",
              "                                          prediction  \n",
              "0  0706016001 0706016002 0372860001 0610776002 07...  \n",
              "1  0706016001 0706016002 0372860001 0610776002 07...  \n",
              "2  0706016001 0706016002 0372860001 0610776002 07...  \n",
              "3  0706016001 0706016002 0372860001 0610776002 07...  \n",
              "4  0706016001 0706016002 0372860001 0610776002 07...  "
            ],
            "text/html": [
              "\n",
              "  <div id=\"df-32bf4969-d102-4a0b-b60c-f35e8b4198ff\">\n",
              "    <div class=\"colab-df-container\">\n",
              "      <div>\n",
              "<style scoped>\n",
              "    .dataframe tbody tr th:only-of-type {\n",
              "        vertical-align: middle;\n",
              "    }\n",
              "\n",
              "    .dataframe tbody tr th {\n",
              "        vertical-align: top;\n",
              "    }\n",
              "\n",
              "    .dataframe thead th {\n",
              "        text-align: right;\n",
              "    }\n",
              "</style>\n",
              "<table border=\"1\" class=\"dataframe\">\n",
              "  <thead>\n",
              "    <tr style=\"text-align: right;\">\n",
              "      <th></th>\n",
              "      <th>customer_id</th>\n",
              "      <th>prediction</th>\n",
              "    </tr>\n",
              "  </thead>\n",
              "  <tbody>\n",
              "    <tr>\n",
              "      <th>0</th>\n",
              "      <td>00000dbacae5abe5e23885899a1fa44253a17956c6d1c3...</td>\n",
              "      <td>0706016001 0706016002 0372860001 0610776002 07...</td>\n",
              "    </tr>\n",
              "    <tr>\n",
              "      <th>1</th>\n",
              "      <td>0000423b00ade91418cceaf3b26c6af3dd342b51fd051e...</td>\n",
              "      <td>0706016001 0706016002 0372860001 0610776002 07...</td>\n",
              "    </tr>\n",
              "    <tr>\n",
              "      <th>2</th>\n",
              "      <td>000058a12d5b43e67d225668fa1f8d618c13dc232df0ca...</td>\n",
              "      <td>0706016001 0706016002 0372860001 0610776002 07...</td>\n",
              "    </tr>\n",
              "    <tr>\n",
              "      <th>3</th>\n",
              "      <td>00005ca1c9ed5f5146b52ac8639a40ca9d57aeff4d1bd2...</td>\n",
              "      <td>0706016001 0706016002 0372860001 0610776002 07...</td>\n",
              "    </tr>\n",
              "    <tr>\n",
              "      <th>4</th>\n",
              "      <td>00006413d8573cd20ed7128e53b7b13819fe5cfc2d801f...</td>\n",
              "      <td>0706016001 0706016002 0372860001 0610776002 07...</td>\n",
              "    </tr>\n",
              "  </tbody>\n",
              "</table>\n",
              "</div>\n",
              "      <button class=\"colab-df-convert\" onclick=\"convertToInteractive('df-32bf4969-d102-4a0b-b60c-f35e8b4198ff')\"\n",
              "              title=\"Convert this dataframe to an interactive table.\"\n",
              "              style=\"display:none;\">\n",
              "        \n",
              "  <svg xmlns=\"http://www.w3.org/2000/svg\" height=\"24px\"viewBox=\"0 0 24 24\"\n",
              "       width=\"24px\">\n",
              "    <path d=\"M0 0h24v24H0V0z\" fill=\"none\"/>\n",
              "    <path d=\"M18.56 5.44l.94 2.06.94-2.06 2.06-.94-2.06-.94-.94-2.06-.94 2.06-2.06.94zm-11 1L8.5 8.5l.94-2.06 2.06-.94-2.06-.94L8.5 2.5l-.94 2.06-2.06.94zm10 10l.94 2.06.94-2.06 2.06-.94-2.06-.94-.94-2.06-.94 2.06-2.06.94z\"/><path d=\"M17.41 7.96l-1.37-1.37c-.4-.4-.92-.59-1.43-.59-.52 0-1.04.2-1.43.59L10.3 9.45l-7.72 7.72c-.78.78-.78 2.05 0 2.83L4 21.41c.39.39.9.59 1.41.59.51 0 1.02-.2 1.41-.59l7.78-7.78 2.81-2.81c.8-.78.8-2.07 0-2.86zM5.41 20L4 18.59l7.72-7.72 1.47 1.35L5.41 20z\"/>\n",
              "  </svg>\n",
              "      </button>\n",
              "      \n",
              "  <style>\n",
              "    .colab-df-container {\n",
              "      display:flex;\n",
              "      flex-wrap:wrap;\n",
              "      gap: 12px;\n",
              "    }\n",
              "\n",
              "    .colab-df-convert {\n",
              "      background-color: #E8F0FE;\n",
              "      border: none;\n",
              "      border-radius: 50%;\n",
              "      cursor: pointer;\n",
              "      display: none;\n",
              "      fill: #1967D2;\n",
              "      height: 32px;\n",
              "      padding: 0 0 0 0;\n",
              "      width: 32px;\n",
              "    }\n",
              "\n",
              "    .colab-df-convert:hover {\n",
              "      background-color: #E2EBFA;\n",
              "      box-shadow: 0px 1px 2px rgba(60, 64, 67, 0.3), 0px 1px 3px 1px rgba(60, 64, 67, 0.15);\n",
              "      fill: #174EA6;\n",
              "    }\n",
              "\n",
              "    [theme=dark] .colab-df-convert {\n",
              "      background-color: #3B4455;\n",
              "      fill: #D2E3FC;\n",
              "    }\n",
              "\n",
              "    [theme=dark] .colab-df-convert:hover {\n",
              "      background-color: #434B5C;\n",
              "      box-shadow: 0px 1px 3px 1px rgba(0, 0, 0, 0.15);\n",
              "      filter: drop-shadow(0px 1px 2px rgba(0, 0, 0, 0.3));\n",
              "      fill: #FFFFFF;\n",
              "    }\n",
              "  </style>\n",
              "\n",
              "      <script>\n",
              "        const buttonEl =\n",
              "          document.querySelector('#df-32bf4969-d102-4a0b-b60c-f35e8b4198ff button.colab-df-convert');\n",
              "        buttonEl.style.display =\n",
              "          google.colab.kernel.accessAllowed ? 'block' : 'none';\n",
              "\n",
              "        async function convertToInteractive(key) {\n",
              "          const element = document.querySelector('#df-32bf4969-d102-4a0b-b60c-f35e8b4198ff');\n",
              "          const dataTable =\n",
              "            await google.colab.kernel.invokeFunction('convertToInteractive',\n",
              "                                                     [key], {});\n",
              "          if (!dataTable) return;\n",
              "\n",
              "          const docLinkHtml = 'Like what you see? Visit the ' +\n",
              "            '<a target=\"_blank\" href=https://colab.research.google.com/notebooks/data_table.ipynb>data table notebook</a>'\n",
              "            + ' to learn more about interactive tables.';\n",
              "          element.innerHTML = '';\n",
              "          dataTable['output_type'] = 'display_data';\n",
              "          await google.colab.output.renderOutput(dataTable, element);\n",
              "          const docLink = document.createElement('div');\n",
              "          docLink.innerHTML = docLinkHtml;\n",
              "          element.appendChild(docLink);\n",
              "        }\n",
              "      </script>\n",
              "    </div>\n",
              "  </div>\n",
              "  "
            ]
          },
          "metadata": {},
          "execution_count": 83
        }
      ]
    },
    {
      "cell_type": "code",
      "source": [
        "top12_arr = list(top12_arr.flatten().astype(str))"
      ],
      "metadata": {
        "id": "zODLUciEih6j"
      },
      "execution_count": null,
      "outputs": []
    },
    {
      "cell_type": "code",
      "source": [
        "pred = []\n",
        "for c_id in submission.customer_id:\n",
        "  p = preds.get(c_id, [])\n",
        "  p = list(p) + list(top12_arr)\n",
        "  idx = np.unique(p, return_index=True)[1]\n",
        "  p = [p[i] for i in sorted(idx)]\n",
        "  pred.append(p[:12])"
      ],
      "metadata": {
        "id": "clCtcW1JZ543"
      },
      "execution_count": null,
      "outputs": []
    },
    {
      "cell_type": "code",
      "source": [
        "pred = [' '.join(i) for i in pred]"
      ],
      "metadata": {
        "id": "09H2KI1Nn2Id"
      },
      "execution_count": null,
      "outputs": []
    },
    {
      "cell_type": "code",
      "source": [
        "submission.prediction = pred"
      ],
      "metadata": {
        "id": "yEHXN3_3hHKB"
      },
      "execution_count": null,
      "outputs": []
    },
    {
      "cell_type": "code",
      "source": [
        "submission.head()"
      ],
      "metadata": {
        "id": "LQ_IN1ePnnEq",
        "outputId": "343f22c3-f3b2-4e52-84fb-3a5d0a5a8225",
        "colab": {
          "base_uri": "https://localhost:8080/",
          "height": 206
        }
      },
      "execution_count": null,
      "outputs": [
        {
          "output_type": "execute_result",
          "data": {
            "text/plain": [
              "                                         customer_id  \\\n",
              "0  00000dbacae5abe5e23885899a1fa44253a17956c6d1c3...   \n",
              "1  0000423b00ade91418cceaf3b26c6af3dd342b51fd051e...   \n",
              "2  000058a12d5b43e67d225668fa1f8d618c13dc232df0ca...   \n",
              "3  00005ca1c9ed5f5146b52ac8639a40ca9d57aeff4d1bd2...   \n",
              "4  00006413d8573cd20ed7128e53b7b13819fe5cfc2d801f...   \n",
              "\n",
              "                                          prediction  \n",
              "0  0568601043 0865799006 0909370001 0918522001 09...  \n",
              "1  0826211002 0865799006 0909370001 0924243001 09...  \n",
              "2  0794321007 0865799006 0909370001 0918522001 09...  \n",
              "3  0909370001 0865799006 0924243001 0918522001 07...  \n",
              "4  0927530004 0896152002 0791587015 0730683050 08...  "
            ],
            "text/html": [
              "\n",
              "  <div id=\"df-154a9166-ff64-4b92-acdc-a47e97747f10\">\n",
              "    <div class=\"colab-df-container\">\n",
              "      <div>\n",
              "<style scoped>\n",
              "    .dataframe tbody tr th:only-of-type {\n",
              "        vertical-align: middle;\n",
              "    }\n",
              "\n",
              "    .dataframe tbody tr th {\n",
              "        vertical-align: top;\n",
              "    }\n",
              "\n",
              "    .dataframe thead th {\n",
              "        text-align: right;\n",
              "    }\n",
              "</style>\n",
              "<table border=\"1\" class=\"dataframe\">\n",
              "  <thead>\n",
              "    <tr style=\"text-align: right;\">\n",
              "      <th></th>\n",
              "      <th>customer_id</th>\n",
              "      <th>prediction</th>\n",
              "    </tr>\n",
              "  </thead>\n",
              "  <tbody>\n",
              "    <tr>\n",
              "      <th>0</th>\n",
              "      <td>00000dbacae5abe5e23885899a1fa44253a17956c6d1c3...</td>\n",
              "      <td>0568601043 0865799006 0909370001 0918522001 09...</td>\n",
              "    </tr>\n",
              "    <tr>\n",
              "      <th>1</th>\n",
              "      <td>0000423b00ade91418cceaf3b26c6af3dd342b51fd051e...</td>\n",
              "      <td>0826211002 0865799006 0909370001 0924243001 09...</td>\n",
              "    </tr>\n",
              "    <tr>\n",
              "      <th>2</th>\n",
              "      <td>000058a12d5b43e67d225668fa1f8d618c13dc232df0ca...</td>\n",
              "      <td>0794321007 0865799006 0909370001 0918522001 09...</td>\n",
              "    </tr>\n",
              "    <tr>\n",
              "      <th>3</th>\n",
              "      <td>00005ca1c9ed5f5146b52ac8639a40ca9d57aeff4d1bd2...</td>\n",
              "      <td>0909370001 0865799006 0924243001 0918522001 07...</td>\n",
              "    </tr>\n",
              "    <tr>\n",
              "      <th>4</th>\n",
              "      <td>00006413d8573cd20ed7128e53b7b13819fe5cfc2d801f...</td>\n",
              "      <td>0927530004 0896152002 0791587015 0730683050 08...</td>\n",
              "    </tr>\n",
              "  </tbody>\n",
              "</table>\n",
              "</div>\n",
              "      <button class=\"colab-df-convert\" onclick=\"convertToInteractive('df-154a9166-ff64-4b92-acdc-a47e97747f10')\"\n",
              "              title=\"Convert this dataframe to an interactive table.\"\n",
              "              style=\"display:none;\">\n",
              "        \n",
              "  <svg xmlns=\"http://www.w3.org/2000/svg\" height=\"24px\"viewBox=\"0 0 24 24\"\n",
              "       width=\"24px\">\n",
              "    <path d=\"M0 0h24v24H0V0z\" fill=\"none\"/>\n",
              "    <path d=\"M18.56 5.44l.94 2.06.94-2.06 2.06-.94-2.06-.94-.94-2.06-.94 2.06-2.06.94zm-11 1L8.5 8.5l.94-2.06 2.06-.94-2.06-.94L8.5 2.5l-.94 2.06-2.06.94zm10 10l.94 2.06.94-2.06 2.06-.94-2.06-.94-.94-2.06-.94 2.06-2.06.94z\"/><path d=\"M17.41 7.96l-1.37-1.37c-.4-.4-.92-.59-1.43-.59-.52 0-1.04.2-1.43.59L10.3 9.45l-7.72 7.72c-.78.78-.78 2.05 0 2.83L4 21.41c.39.39.9.59 1.41.59.51 0 1.02-.2 1.41-.59l7.78-7.78 2.81-2.81c.8-.78.8-2.07 0-2.86zM5.41 20L4 18.59l7.72-7.72 1.47 1.35L5.41 20z\"/>\n",
              "  </svg>\n",
              "      </button>\n",
              "      \n",
              "  <style>\n",
              "    .colab-df-container {\n",
              "      display:flex;\n",
              "      flex-wrap:wrap;\n",
              "      gap: 12px;\n",
              "    }\n",
              "\n",
              "    .colab-df-convert {\n",
              "      background-color: #E8F0FE;\n",
              "      border: none;\n",
              "      border-radius: 50%;\n",
              "      cursor: pointer;\n",
              "      display: none;\n",
              "      fill: #1967D2;\n",
              "      height: 32px;\n",
              "      padding: 0 0 0 0;\n",
              "      width: 32px;\n",
              "    }\n",
              "\n",
              "    .colab-df-convert:hover {\n",
              "      background-color: #E2EBFA;\n",
              "      box-shadow: 0px 1px 2px rgba(60, 64, 67, 0.3), 0px 1px 3px 1px rgba(60, 64, 67, 0.15);\n",
              "      fill: #174EA6;\n",
              "    }\n",
              "\n",
              "    [theme=dark] .colab-df-convert {\n",
              "      background-color: #3B4455;\n",
              "      fill: #D2E3FC;\n",
              "    }\n",
              "\n",
              "    [theme=dark] .colab-df-convert:hover {\n",
              "      background-color: #434B5C;\n",
              "      box-shadow: 0px 1px 3px 1px rgba(0, 0, 0, 0.15);\n",
              "      filter: drop-shadow(0px 1px 2px rgba(0, 0, 0, 0.3));\n",
              "      fill: #FFFFFF;\n",
              "    }\n",
              "  </style>\n",
              "\n",
              "      <script>\n",
              "        const buttonEl =\n",
              "          document.querySelector('#df-154a9166-ff64-4b92-acdc-a47e97747f10 button.colab-df-convert');\n",
              "        buttonEl.style.display =\n",
              "          google.colab.kernel.accessAllowed ? 'block' : 'none';\n",
              "\n",
              "        async function convertToInteractive(key) {\n",
              "          const element = document.querySelector('#df-154a9166-ff64-4b92-acdc-a47e97747f10');\n",
              "          const dataTable =\n",
              "            await google.colab.kernel.invokeFunction('convertToInteractive',\n",
              "                                                     [key], {});\n",
              "          if (!dataTable) return;\n",
              "\n",
              "          const docLinkHtml = 'Like what you see? Visit the ' +\n",
              "            '<a target=\"_blank\" href=https://colab.research.google.com/notebooks/data_table.ipynb>data table notebook</a>'\n",
              "            + ' to learn more about interactive tables.';\n",
              "          element.innerHTML = '';\n",
              "          dataTable['output_type'] = 'display_data';\n",
              "          await google.colab.output.renderOutput(dataTable, element);\n",
              "          const docLink = document.createElement('div');\n",
              "          docLink.innerHTML = docLinkHtml;\n",
              "          element.appendChild(docLink);\n",
              "        }\n",
              "      </script>\n",
              "    </div>\n",
              "  </div>\n",
              "  "
            ]
          },
          "metadata": {},
          "execution_count": 173
        }
      ]
    },
    {
      "cell_type": "code",
      "source": [
        "submission.to_csv('/content/submission.csv', index=False)"
      ],
      "metadata": {
        "id": "ORo8iB8OkneB"
      },
      "execution_count": null,
      "outputs": []
    },
    {
      "cell_type": "code",
      "source": [
        "!kaggle competitions submit -c h-and-m-personalized-fashion-recommendations -f submission.csv -m \"ok\""
      ],
      "metadata": {
        "id": "e1GboLY4ksei",
        "outputId": "35dee889-b712-461c-9b07-3da2c30b1357",
        "colab": {
          "base_uri": "https://localhost:8080/"
        }
      },
      "execution_count": null,
      "outputs": [
        {
          "output_type": "stream",
          "name": "stdout",
          "text": [
            "Warning: Your Kaggle API key is readable by other users on this system! To fix this, you can run 'chmod 600 /root/.kaggle/kaggle.json'\n",
            "100% 258M/258M [00:05<00:00, 48.4MB/s]\n",
            "Successfully submitted to H&M Personalized Fashion Recommendations"
          ]
        }
      ]
    }
  ]
}
